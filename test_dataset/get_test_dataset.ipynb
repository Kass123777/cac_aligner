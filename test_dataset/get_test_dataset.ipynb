{
 "cells": [
  {
   "cell_type": "code",
   "execution_count": 2,
   "metadata": {},
   "outputs": [],
   "source": [
    "input_file = '/aifs4su/yaodong/boyuan/datasets/HarmfulQA/data_for_hub.json'\n",
    "import json\n",
    "with open(input_file, 'r') as f:\n",
    "    data = json.load(f)\n",
    "\n",
    "data[0]\n",
    "\n",
    "\n",
    "new_data = []\n",
    "for item in data:\n",
    "    new_data.append({\n",
    "        \"prompt\": item[\"question\"],\n",
    "        \"meta_data\": {\n",
    "            \"topic\": item[\"topic\"],\n",
    "            \"subtopic\": item[\"subtopic\"],\n",
    "    \n",
    "        }\n",
    "    })\n",
    "\n",
    "with open(input_file, 'w') as f:\n",
    "    json.dump(new_data, f, indent=4)"
   ]
  },
  {
   "cell_type": "code",
   "execution_count": 4,
   "metadata": {},
   "outputs": [
    {
     "name": "stdout",
     "output_type": "stream",
     "text": [
      "1960\n",
      "已采样1000条数据并保存到 /aifs4su/yaodong/boyuan/june_aligner/test_dataset/harmfulqa/test_questions.json\n"
     ]
    }
   ],
   "source": [
    "input_file = '/aifs4su/yaodong/boyuan/datasets/HarmfulQA/data_for_hub.json'\n",
    "with open(input_file, 'r') as f:\n",
    "    data = json.load(f)\n",
    "\n",
    "print(len(data))\n",
    "\n",
    "import random\n",
    "\n",
    "# 采样1000条数据\n",
    "sampled_data = random.sample(data, min(1000, len(data)))\n",
    "\n",
    "output_file = '/aifs4su/yaodong/boyuan/june_aligner/test_dataset/harmfulqa/test_questions.json'\n",
    "with open(output_file, 'w', encoding='utf-8') as f:\n",
    "    json.dump(sampled_data, f, ensure_ascii=False, indent=4)\n",
    "\n",
    "print(f\"已采样{len(sampled_data)}条数据并保存到 {output_file}\")\n"
   ]
  },
  {
   "cell_type": "code",
   "execution_count": 4,
   "metadata": {},
   "outputs": [
    {
     "name": "stdout",
     "output_type": "stream",
     "text": [
      "3021\n",
      "1733\n"
     ]
    }
   ],
   "source": [
    "input_file = '/aifs4su/yaodong/boyuan/datasets/BeaverTails/round0/30k/test.jsonl'\n",
    "import json\n",
    "with open(input_file, 'r') as f:\n",
    "    data =  [json.loads(line) for line in f]\n",
    "import random\n",
    "\n",
    "print(len(data))\n",
    "data[0]\n",
    "\n",
    "new_data = []\n",
    "for item in data:\n",
    "    if item['is_safe'] == False:    \n",
    "        new_data.append({\n",
    "            \"prompt\": item['prompt'],\n",
    "            \"meta_data\": {\n",
    "                \"category\": item['category'],\n",
    "            }\n",
    "        })\n",
    "\n",
    "print(len(new_data))\n",
    "new_data = random.sample(new_data, 1000)\n",
    "\n",
    "output_file = '/aifs4su/yaodong/boyuan/june_aligner/test_dataset/beavertails/test_questions.json'\n",
    "with open(output_file, 'w') as f:\n",
    "    json.dump(new_data, f, ensure_ascii=False, indent=4)"
   ]
  },
  {
   "cell_type": "code",
   "execution_count": null,
   "metadata": {},
   "outputs": [],
   "source": []
  }
 ],
 "metadata": {
  "kernelspec": {
   "display_name": "by-align",
   "language": "python",
   "name": "python3"
  },
  "language_info": {
   "codemirror_mode": {
    "name": "ipython",
    "version": 3
   },
   "file_extension": ".py",
   "mimetype": "text/x-python",
   "name": "python",
   "nbconvert_exporter": "python",
   "pygments_lexer": "ipython3",
   "version": "3.11.9"
  }
 },
 "nbformat": 4,
 "nbformat_minor": 2
}
